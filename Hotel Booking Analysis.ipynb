{
 "cells": [
  {
   "cell_type": "code",
   "execution_count": 5,
   "id": "0204a225-6c5c-4592-a292-91127d70aa67",
   "metadata": {},
   "outputs": [],
   "source": [
    "#importing libraries\n",
    "import pandas as pd\n",
    "import numpy as np\n",
    "import seaborn as sns\n",
    "import warnings\n",
    "warnings.filterwarnings('ignore')\n",
    "import matplotlib.pyplot as plt\n",
    "%matplotlib inline\n",
    "from datetime import datetime"
   ]
  },
  {
   "cell_type": "code",
   "execution_count": 6,
   "id": "aa96a80a-e97f-4684-a162-33660bcfdd25",
   "metadata": {},
   "outputs": [],
   "source": [
    "#importing data\n",
    "df = pd.read_csv(r'C:\\Users\\kunwa\\Downloads\\Hotel Bookings.csv')"
   ]
  },
  {
   "cell_type": "code",
   "execution_count": 29,
   "id": "6f139500-f9d1-4a90-ae59-ee05fe62e2ef",
   "metadata": {},
   "outputs": [
    {
     "data": {
      "text/html": [
       "<div>\n",
       "<style scoped>\n",
       "    .dataframe tbody tr th:only-of-type {\n",
       "        vertical-align: middle;\n",
       "    }\n",
       "\n",
       "    .dataframe tbody tr th {\n",
       "        vertical-align: top;\n",
       "    }\n",
       "\n",
       "    .dataframe thead th {\n",
       "        text-align: right;\n",
       "    }\n",
       "</style>\n",
       "<table border=\"1\" class=\"dataframe\">\n",
       "  <thead>\n",
       "    <tr style=\"text-align: right;\">\n",
       "      <th></th>\n",
       "      <th>hotel</th>\n",
       "      <th>is_canceled</th>\n",
       "      <th>lead_time</th>\n",
       "      <th>arrival_date_year</th>\n",
       "      <th>arrival_date_month</th>\n",
       "      <th>arrival_date_week_number</th>\n",
       "      <th>arrival_date_day_of_month</th>\n",
       "      <th>stays_in_weekend_nights</th>\n",
       "      <th>stays_in_week_nights</th>\n",
       "      <th>adults</th>\n",
       "      <th>children</th>\n",
       "      <th>babies</th>\n",
       "      <th>meal</th>\n",
       "      <th>country</th>\n",
       "      <th>market_segment</th>\n",
       "      <th>distribution_channel</th>\n",
       "      <th>...</th>\n",
       "      <th>previous_bookings_not_canceled</th>\n",
       "      <th>reserved_room_type</th>\n",
       "      <th>assigned_room_type</th>\n",
       "      <th>booking_changes</th>\n",
       "      <th>deposit_type</th>\n",
       "      <th>agent</th>\n",
       "      <th>company</th>\n",
       "      <th>days_in_waiting_list</th>\n",
       "      <th>customer_type</th>\n",
       "      <th>adr</th>\n",
       "      <th>required_car_parking_spaces</th>\n",
       "      <th>total_of_special_requests</th>\n",
       "      <th>reservation_status</th>\n",
       "      <th>reservation_status_date</th>\n",
       "      <th>total_stays_in_night</th>\n",
       "      <th>revenue</th>\n",
       "    </tr>\n",
       "  </thead>\n",
       "  <tbody>\n",
       "    <tr>\n",
       "      <th>0</th>\n",
       "      <td>Resort Hotel</td>\n",
       "      <td>0</td>\n",
       "      <td>342</td>\n",
       "      <td>2015</td>\n",
       "      <td>July</td>\n",
       "      <td>27</td>\n",
       "      <td>1</td>\n",
       "      <td>0</td>\n",
       "      <td>0</td>\n",
       "      <td>2</td>\n",
       "      <td>0.0</td>\n",
       "      <td>0</td>\n",
       "      <td>BB</td>\n",
       "      <td>PRT</td>\n",
       "      <td>Direct</td>\n",
       "      <td>Direct</td>\n",
       "      <td>...</td>\n",
       "      <td>0</td>\n",
       "      <td>C</td>\n",
       "      <td>C</td>\n",
       "      <td>3</td>\n",
       "      <td>No Deposit</td>\n",
       "      <td>NaN</td>\n",
       "      <td>NaN</td>\n",
       "      <td>0</td>\n",
       "      <td>Transient</td>\n",
       "      <td>0.0</td>\n",
       "      <td>0</td>\n",
       "      <td>0</td>\n",
       "      <td>Check-Out</td>\n",
       "      <td>01-07-2015</td>\n",
       "      <td>0</td>\n",
       "      <td>0.0</td>\n",
       "    </tr>\n",
       "    <tr>\n",
       "      <th>1</th>\n",
       "      <td>Resort Hotel</td>\n",
       "      <td>0</td>\n",
       "      <td>737</td>\n",
       "      <td>2015</td>\n",
       "      <td>July</td>\n",
       "      <td>27</td>\n",
       "      <td>1</td>\n",
       "      <td>0</td>\n",
       "      <td>0</td>\n",
       "      <td>2</td>\n",
       "      <td>0.0</td>\n",
       "      <td>0</td>\n",
       "      <td>BB</td>\n",
       "      <td>PRT</td>\n",
       "      <td>Direct</td>\n",
       "      <td>Direct</td>\n",
       "      <td>...</td>\n",
       "      <td>0</td>\n",
       "      <td>C</td>\n",
       "      <td>C</td>\n",
       "      <td>4</td>\n",
       "      <td>No Deposit</td>\n",
       "      <td>NaN</td>\n",
       "      <td>NaN</td>\n",
       "      <td>0</td>\n",
       "      <td>Transient</td>\n",
       "      <td>0.0</td>\n",
       "      <td>0</td>\n",
       "      <td>0</td>\n",
       "      <td>Check-Out</td>\n",
       "      <td>01-07-2015</td>\n",
       "      <td>0</td>\n",
       "      <td>0.0</td>\n",
       "    </tr>\n",
       "    <tr>\n",
       "      <th>2</th>\n",
       "      <td>Resort Hotel</td>\n",
       "      <td>0</td>\n",
       "      <td>7</td>\n",
       "      <td>2015</td>\n",
       "      <td>July</td>\n",
       "      <td>27</td>\n",
       "      <td>1</td>\n",
       "      <td>0</td>\n",
       "      <td>1</td>\n",
       "      <td>1</td>\n",
       "      <td>0.0</td>\n",
       "      <td>0</td>\n",
       "      <td>BB</td>\n",
       "      <td>GBR</td>\n",
       "      <td>Direct</td>\n",
       "      <td>Direct</td>\n",
       "      <td>...</td>\n",
       "      <td>0</td>\n",
       "      <td>A</td>\n",
       "      <td>C</td>\n",
       "      <td>0</td>\n",
       "      <td>No Deposit</td>\n",
       "      <td>NaN</td>\n",
       "      <td>NaN</td>\n",
       "      <td>0</td>\n",
       "      <td>Transient</td>\n",
       "      <td>75.0</td>\n",
       "      <td>0</td>\n",
       "      <td>0</td>\n",
       "      <td>Check-Out</td>\n",
       "      <td>02-07-2015</td>\n",
       "      <td>1</td>\n",
       "      <td>75.0</td>\n",
       "    </tr>\n",
       "    <tr>\n",
       "      <th>3</th>\n",
       "      <td>Resort Hotel</td>\n",
       "      <td>0</td>\n",
       "      <td>13</td>\n",
       "      <td>2015</td>\n",
       "      <td>July</td>\n",
       "      <td>27</td>\n",
       "      <td>1</td>\n",
       "      <td>0</td>\n",
       "      <td>1</td>\n",
       "      <td>1</td>\n",
       "      <td>0.0</td>\n",
       "      <td>0</td>\n",
       "      <td>BB</td>\n",
       "      <td>GBR</td>\n",
       "      <td>Corporate</td>\n",
       "      <td>Corporate</td>\n",
       "      <td>...</td>\n",
       "      <td>0</td>\n",
       "      <td>A</td>\n",
       "      <td>A</td>\n",
       "      <td>0</td>\n",
       "      <td>No Deposit</td>\n",
       "      <td>304.0</td>\n",
       "      <td>NaN</td>\n",
       "      <td>0</td>\n",
       "      <td>Transient</td>\n",
       "      <td>75.0</td>\n",
       "      <td>0</td>\n",
       "      <td>0</td>\n",
       "      <td>Check-Out</td>\n",
       "      <td>02-07-2015</td>\n",
       "      <td>1</td>\n",
       "      <td>75.0</td>\n",
       "    </tr>\n",
       "    <tr>\n",
       "      <th>4</th>\n",
       "      <td>Resort Hotel</td>\n",
       "      <td>0</td>\n",
       "      <td>14</td>\n",
       "      <td>2015</td>\n",
       "      <td>July</td>\n",
       "      <td>27</td>\n",
       "      <td>1</td>\n",
       "      <td>0</td>\n",
       "      <td>2</td>\n",
       "      <td>2</td>\n",
       "      <td>0.0</td>\n",
       "      <td>0</td>\n",
       "      <td>BB</td>\n",
       "      <td>GBR</td>\n",
       "      <td>Online TA</td>\n",
       "      <td>TA/TO</td>\n",
       "      <td>...</td>\n",
       "      <td>0</td>\n",
       "      <td>A</td>\n",
       "      <td>A</td>\n",
       "      <td>0</td>\n",
       "      <td>No Deposit</td>\n",
       "      <td>240.0</td>\n",
       "      <td>NaN</td>\n",
       "      <td>0</td>\n",
       "      <td>Transient</td>\n",
       "      <td>98.0</td>\n",
       "      <td>0</td>\n",
       "      <td>1</td>\n",
       "      <td>Check-Out</td>\n",
       "      <td>03-07-2015</td>\n",
       "      <td>2</td>\n",
       "      <td>196.0</td>\n",
       "    </tr>\n",
       "  </tbody>\n",
       "</table>\n",
       "<p>5 rows × 34 columns</p>\n",
       "</div>"
      ],
      "text/plain": [
       "          hotel  is_canceled  lead_time  arrival_date_year arrival_date_month  \\\n",
       "0  Resort Hotel            0        342               2015               July   \n",
       "1  Resort Hotel            0        737               2015               July   \n",
       "2  Resort Hotel            0          7               2015               July   \n",
       "3  Resort Hotel            0         13               2015               July   \n",
       "4  Resort Hotel            0         14               2015               July   \n",
       "\n",
       "   arrival_date_week_number  arrival_date_day_of_month  \\\n",
       "0                        27                          1   \n",
       "1                        27                          1   \n",
       "2                        27                          1   \n",
       "3                        27                          1   \n",
       "4                        27                          1   \n",
       "\n",
       "   stays_in_weekend_nights  stays_in_week_nights  adults  children  babies  \\\n",
       "0                        0                     0       2       0.0       0   \n",
       "1                        0                     0       2       0.0       0   \n",
       "2                        0                     1       1       0.0       0   \n",
       "3                        0                     1       1       0.0       0   \n",
       "4                        0                     2       2       0.0       0   \n",
       "\n",
       "  meal country market_segment distribution_channel  ...  \\\n",
       "0   BB     PRT         Direct               Direct  ...   \n",
       "1   BB     PRT         Direct               Direct  ...   \n",
       "2   BB     GBR         Direct               Direct  ...   \n",
       "3   BB     GBR      Corporate            Corporate  ...   \n",
       "4   BB     GBR      Online TA                TA/TO  ...   \n",
       "\n",
       "   previous_bookings_not_canceled  reserved_room_type  assigned_room_type  \\\n",
       "0                               0                   C                   C   \n",
       "1                               0                   C                   C   \n",
       "2                               0                   A                   C   \n",
       "3                               0                   A                   A   \n",
       "4                               0                   A                   A   \n",
       "\n",
       "  booking_changes deposit_type  agent company  days_in_waiting_list  \\\n",
       "0               3   No Deposit    NaN     NaN                     0   \n",
       "1               4   No Deposit    NaN     NaN                     0   \n",
       "2               0   No Deposit    NaN     NaN                     0   \n",
       "3               0   No Deposit  304.0     NaN                     0   \n",
       "4               0   No Deposit  240.0     NaN                     0   \n",
       "\n",
       "   customer_type   adr required_car_parking_spaces  total_of_special_requests  \\\n",
       "0      Transient   0.0                           0                          0   \n",
       "1      Transient   0.0                           0                          0   \n",
       "2      Transient  75.0                           0                          0   \n",
       "3      Transient  75.0                           0                          0   \n",
       "4      Transient  98.0                           0                          1   \n",
       "\n",
       "   reservation_status  reservation_status_date total_stays_in_night revenue  \n",
       "0           Check-Out               01-07-2015                    0     0.0  \n",
       "1           Check-Out               01-07-2015                    0     0.0  \n",
       "2           Check-Out               02-07-2015                    1    75.0  \n",
       "3           Check-Out               02-07-2015                    1    75.0  \n",
       "4           Check-Out               03-07-2015                    2   196.0  \n",
       "\n",
       "[5 rows x 34 columns]"
      ]
     },
     "execution_count": 29,
     "metadata": {},
     "output_type": "execute_result"
    }
   ],
   "source": [
    "#checking first five rows\n",
    "df.head()"
   ]
  },
  {
   "cell_type": "code",
   "execution_count": 9,
   "id": "1c921f39-867e-4a73-984b-642124e2c4d0",
   "metadata": {},
   "outputs": [],
   "source": [
    "#as we can't see all the column names above\n",
    "pd.set_option('display.max_columns',32)"
   ]
  },
  {
   "cell_type": "code",
   "execution_count": 10,
   "id": "615b0a12-b098-4707-baf7-47ecd6ffec0a",
   "metadata": {},
   "outputs": [
    {
     "data": {
      "text/html": [
       "<div>\n",
       "<style scoped>\n",
       "    .dataframe tbody tr th:only-of-type {\n",
       "        vertical-align: middle;\n",
       "    }\n",
       "\n",
       "    .dataframe tbody tr th {\n",
       "        vertical-align: top;\n",
       "    }\n",
       "\n",
       "    .dataframe thead th {\n",
       "        text-align: right;\n",
       "    }\n",
       "</style>\n",
       "<table border=\"1\" class=\"dataframe\">\n",
       "  <thead>\n",
       "    <tr style=\"text-align: right;\">\n",
       "      <th></th>\n",
       "      <th>hotel</th>\n",
       "      <th>is_canceled</th>\n",
       "      <th>lead_time</th>\n",
       "      <th>arrival_date_year</th>\n",
       "      <th>arrival_date_month</th>\n",
       "      <th>arrival_date_week_number</th>\n",
       "      <th>arrival_date_day_of_month</th>\n",
       "      <th>stays_in_weekend_nights</th>\n",
       "      <th>stays_in_week_nights</th>\n",
       "      <th>adults</th>\n",
       "      <th>children</th>\n",
       "      <th>babies</th>\n",
       "      <th>meal</th>\n",
       "      <th>country</th>\n",
       "      <th>market_segment</th>\n",
       "      <th>distribution_channel</th>\n",
       "      <th>is_repeated_guest</th>\n",
       "      <th>previous_cancellations</th>\n",
       "      <th>previous_bookings_not_canceled</th>\n",
       "      <th>reserved_room_type</th>\n",
       "      <th>assigned_room_type</th>\n",
       "      <th>booking_changes</th>\n",
       "      <th>deposit_type</th>\n",
       "      <th>agent</th>\n",
       "      <th>company</th>\n",
       "      <th>days_in_waiting_list</th>\n",
       "      <th>customer_type</th>\n",
       "      <th>adr</th>\n",
       "      <th>required_car_parking_spaces</th>\n",
       "      <th>total_of_special_requests</th>\n",
       "      <th>reservation_status</th>\n",
       "      <th>reservation_status_date</th>\n",
       "    </tr>\n",
       "  </thead>\n",
       "  <tbody>\n",
       "    <tr>\n",
       "      <th>0</th>\n",
       "      <td>Resort Hotel</td>\n",
       "      <td>0</td>\n",
       "      <td>342</td>\n",
       "      <td>2015</td>\n",
       "      <td>July</td>\n",
       "      <td>27</td>\n",
       "      <td>1</td>\n",
       "      <td>0</td>\n",
       "      <td>0</td>\n",
       "      <td>2</td>\n",
       "      <td>0.0</td>\n",
       "      <td>0</td>\n",
       "      <td>BB</td>\n",
       "      <td>PRT</td>\n",
       "      <td>Direct</td>\n",
       "      <td>Direct</td>\n",
       "      <td>0</td>\n",
       "      <td>0</td>\n",
       "      <td>0</td>\n",
       "      <td>C</td>\n",
       "      <td>C</td>\n",
       "      <td>3</td>\n",
       "      <td>No Deposit</td>\n",
       "      <td>NaN</td>\n",
       "      <td>NaN</td>\n",
       "      <td>0</td>\n",
       "      <td>Transient</td>\n",
       "      <td>0.0</td>\n",
       "      <td>0</td>\n",
       "      <td>0</td>\n",
       "      <td>Check-Out</td>\n",
       "      <td>01-07-2015</td>\n",
       "    </tr>\n",
       "    <tr>\n",
       "      <th>1</th>\n",
       "      <td>Resort Hotel</td>\n",
       "      <td>0</td>\n",
       "      <td>737</td>\n",
       "      <td>2015</td>\n",
       "      <td>July</td>\n",
       "      <td>27</td>\n",
       "      <td>1</td>\n",
       "      <td>0</td>\n",
       "      <td>0</td>\n",
       "      <td>2</td>\n",
       "      <td>0.0</td>\n",
       "      <td>0</td>\n",
       "      <td>BB</td>\n",
       "      <td>PRT</td>\n",
       "      <td>Direct</td>\n",
       "      <td>Direct</td>\n",
       "      <td>0</td>\n",
       "      <td>0</td>\n",
       "      <td>0</td>\n",
       "      <td>C</td>\n",
       "      <td>C</td>\n",
       "      <td>4</td>\n",
       "      <td>No Deposit</td>\n",
       "      <td>NaN</td>\n",
       "      <td>NaN</td>\n",
       "      <td>0</td>\n",
       "      <td>Transient</td>\n",
       "      <td>0.0</td>\n",
       "      <td>0</td>\n",
       "      <td>0</td>\n",
       "      <td>Check-Out</td>\n",
       "      <td>01-07-2015</td>\n",
       "    </tr>\n",
       "    <tr>\n",
       "      <th>2</th>\n",
       "      <td>Resort Hotel</td>\n",
       "      <td>0</td>\n",
       "      <td>7</td>\n",
       "      <td>2015</td>\n",
       "      <td>July</td>\n",
       "      <td>27</td>\n",
       "      <td>1</td>\n",
       "      <td>0</td>\n",
       "      <td>1</td>\n",
       "      <td>1</td>\n",
       "      <td>0.0</td>\n",
       "      <td>0</td>\n",
       "      <td>BB</td>\n",
       "      <td>GBR</td>\n",
       "      <td>Direct</td>\n",
       "      <td>Direct</td>\n",
       "      <td>0</td>\n",
       "      <td>0</td>\n",
       "      <td>0</td>\n",
       "      <td>A</td>\n",
       "      <td>C</td>\n",
       "      <td>0</td>\n",
       "      <td>No Deposit</td>\n",
       "      <td>NaN</td>\n",
       "      <td>NaN</td>\n",
       "      <td>0</td>\n",
       "      <td>Transient</td>\n",
       "      <td>75.0</td>\n",
       "      <td>0</td>\n",
       "      <td>0</td>\n",
       "      <td>Check-Out</td>\n",
       "      <td>02-07-2015</td>\n",
       "    </tr>\n",
       "    <tr>\n",
       "      <th>3</th>\n",
       "      <td>Resort Hotel</td>\n",
       "      <td>0</td>\n",
       "      <td>13</td>\n",
       "      <td>2015</td>\n",
       "      <td>July</td>\n",
       "      <td>27</td>\n",
       "      <td>1</td>\n",
       "      <td>0</td>\n",
       "      <td>1</td>\n",
       "      <td>1</td>\n",
       "      <td>0.0</td>\n",
       "      <td>0</td>\n",
       "      <td>BB</td>\n",
       "      <td>GBR</td>\n",
       "      <td>Corporate</td>\n",
       "      <td>Corporate</td>\n",
       "      <td>0</td>\n",
       "      <td>0</td>\n",
       "      <td>0</td>\n",
       "      <td>A</td>\n",
       "      <td>A</td>\n",
       "      <td>0</td>\n",
       "      <td>No Deposit</td>\n",
       "      <td>304.0</td>\n",
       "      <td>NaN</td>\n",
       "      <td>0</td>\n",
       "      <td>Transient</td>\n",
       "      <td>75.0</td>\n",
       "      <td>0</td>\n",
       "      <td>0</td>\n",
       "      <td>Check-Out</td>\n",
       "      <td>02-07-2015</td>\n",
       "    </tr>\n",
       "    <tr>\n",
       "      <th>4</th>\n",
       "      <td>Resort Hotel</td>\n",
       "      <td>0</td>\n",
       "      <td>14</td>\n",
       "      <td>2015</td>\n",
       "      <td>July</td>\n",
       "      <td>27</td>\n",
       "      <td>1</td>\n",
       "      <td>0</td>\n",
       "      <td>2</td>\n",
       "      <td>2</td>\n",
       "      <td>0.0</td>\n",
       "      <td>0</td>\n",
       "      <td>BB</td>\n",
       "      <td>GBR</td>\n",
       "      <td>Online TA</td>\n",
       "      <td>TA/TO</td>\n",
       "      <td>0</td>\n",
       "      <td>0</td>\n",
       "      <td>0</td>\n",
       "      <td>A</td>\n",
       "      <td>A</td>\n",
       "      <td>0</td>\n",
       "      <td>No Deposit</td>\n",
       "      <td>240.0</td>\n",
       "      <td>NaN</td>\n",
       "      <td>0</td>\n",
       "      <td>Transient</td>\n",
       "      <td>98.0</td>\n",
       "      <td>0</td>\n",
       "      <td>1</td>\n",
       "      <td>Check-Out</td>\n",
       "      <td>03-07-2015</td>\n",
       "    </tr>\n",
       "  </tbody>\n",
       "</table>\n",
       "</div>"
      ],
      "text/plain": [
       "          hotel  is_canceled  lead_time  arrival_date_year arrival_date_month  \\\n",
       "0  Resort Hotel            0        342               2015               July   \n",
       "1  Resort Hotel            0        737               2015               July   \n",
       "2  Resort Hotel            0          7               2015               July   \n",
       "3  Resort Hotel            0         13               2015               July   \n",
       "4  Resort Hotel            0         14               2015               July   \n",
       "\n",
       "   arrival_date_week_number  arrival_date_day_of_month  \\\n",
       "0                        27                          1   \n",
       "1                        27                          1   \n",
       "2                        27                          1   \n",
       "3                        27                          1   \n",
       "4                        27                          1   \n",
       "\n",
       "   stays_in_weekend_nights  stays_in_week_nights  adults  children  babies  \\\n",
       "0                        0                     0       2       0.0       0   \n",
       "1                        0                     0       2       0.0       0   \n",
       "2                        0                     1       1       0.0       0   \n",
       "3                        0                     1       1       0.0       0   \n",
       "4                        0                     2       2       0.0       0   \n",
       "\n",
       "  meal country market_segment distribution_channel  is_repeated_guest  \\\n",
       "0   BB     PRT         Direct               Direct                  0   \n",
       "1   BB     PRT         Direct               Direct                  0   \n",
       "2   BB     GBR         Direct               Direct                  0   \n",
       "3   BB     GBR      Corporate            Corporate                  0   \n",
       "4   BB     GBR      Online TA                TA/TO                  0   \n",
       "\n",
       "   previous_cancellations  previous_bookings_not_canceled reserved_room_type  \\\n",
       "0                       0                               0                  C   \n",
       "1                       0                               0                  C   \n",
       "2                       0                               0                  A   \n",
       "3                       0                               0                  A   \n",
       "4                       0                               0                  A   \n",
       "\n",
       "  assigned_room_type  booking_changes deposit_type  agent  company  \\\n",
       "0                  C                3   No Deposit    NaN      NaN   \n",
       "1                  C                4   No Deposit    NaN      NaN   \n",
       "2                  C                0   No Deposit    NaN      NaN   \n",
       "3                  A                0   No Deposit  304.0      NaN   \n",
       "4                  A                0   No Deposit  240.0      NaN   \n",
       "\n",
       "   days_in_waiting_list customer_type   adr  required_car_parking_spaces  \\\n",
       "0                     0     Transient   0.0                            0   \n",
       "1                     0     Transient   0.0                            0   \n",
       "2                     0     Transient  75.0                            0   \n",
       "3                     0     Transient  75.0                            0   \n",
       "4                     0     Transient  98.0                            0   \n",
       "\n",
       "   total_of_special_requests reservation_status reservation_status_date  \n",
       "0                          0          Check-Out              01-07-2015  \n",
       "1                          0          Check-Out              01-07-2015  \n",
       "2                          0          Check-Out              02-07-2015  \n",
       "3                          0          Check-Out              02-07-2015  \n",
       "4                          1          Check-Out              03-07-2015  "
      ]
     },
     "execution_count": 10,
     "metadata": {},
     "output_type": "execute_result"
    }
   ],
   "source": [
    "df.head()"
   ]
  },
  {
   "cell_type": "markdown",
   "id": "f0654d37-3a6d-4093-96b5-e45b74f7769d",
   "metadata": {},
   "source": [
    "# Understanding The Data"
   ]
  },
  {
   "cell_type": "code",
   "execution_count": 13,
   "id": "861ba9fc-3424-47b8-9b96-9856be78bad6",
   "metadata": {},
   "outputs": [
    {
     "data": {
      "text/plain": [
       "(119390, 32)"
      ]
     },
     "execution_count": 13,
     "metadata": {},
     "output_type": "execute_result"
    }
   ],
   "source": [
    "#total rows and columns present in the dataset\n",
    "df.shape"
   ]
  },
  {
   "cell_type": "code",
   "execution_count": 14,
   "id": "0859da71-3a59-4179-80c5-4c718257d5b7",
   "metadata": {},
   "outputs": [
    {
     "data": {
      "text/plain": [
       "hotel                                  0\n",
       "is_canceled                            0\n",
       "lead_time                              0\n",
       "arrival_date_year                      0\n",
       "arrival_date_month                     0\n",
       "arrival_date_week_number               0\n",
       "arrival_date_day_of_month              0\n",
       "stays_in_weekend_nights                0\n",
       "stays_in_week_nights                   0\n",
       "adults                                 0\n",
       "children                               4\n",
       "babies                                 0\n",
       "meal                                   0\n",
       "country                              488\n",
       "market_segment                         0\n",
       "distribution_channel                   0\n",
       "is_repeated_guest                      0\n",
       "previous_cancellations                 0\n",
       "previous_bookings_not_canceled         0\n",
       "reserved_room_type                     0\n",
       "assigned_room_type                     0\n",
       "booking_changes                        0\n",
       "deposit_type                           0\n",
       "agent                              16340\n",
       "company                           112593\n",
       "days_in_waiting_list                   0\n",
       "customer_type                          0\n",
       "adr                                    0\n",
       "required_car_parking_spaces            0\n",
       "total_of_special_requests              0\n",
       "reservation_status                     0\n",
       "reservation_status_date                0\n",
       "dtype: int64"
      ]
     },
     "execution_count": 14,
     "metadata": {},
     "output_type": "execute_result"
    }
   ],
   "source": [
    "#checking for null values\n",
    "pd.isnull(df).sum()"
   ]
  },
  {
   "cell_type": "markdown",
   "id": "6508850d-43c0-45e9-ba17-69d00609dd28",
   "metadata": {},
   "source": [
    "##### We can see there are many null values in columns agent and company."
   ]
  },
  {
   "cell_type": "code",
   "execution_count": 15,
   "id": "08efd356-43c4-4efc-902c-00e90e9e9dda",
   "metadata": {},
   "outputs": [],
   "source": [
    "#deleting/dropping null values columns with many blank values\n",
    "df.drop (['agent','company'], axis=1, inplace=True)"
   ]
  },
  {
   "cell_type": "code",
   "execution_count": 16,
   "id": "7294a895-8550-49cf-ab27-7b1892956f4d",
   "metadata": {},
   "outputs": [
    {
     "data": {
      "text/plain": [
       "(119390, 30)"
      ]
     },
     "execution_count": 16,
     "metadata": {},
     "output_type": "execute_result"
    }
   ],
   "source": [
    "#checking it has dropped or not\n",
    "df.shape"
   ]
  },
  {
   "cell_type": "code",
   "execution_count": 17,
   "id": "3a6902f5-927f-437c-88fe-e3eabc4a7eab",
   "metadata": {},
   "outputs": [
    {
     "data": {
      "text/html": [
       "<div>\n",
       "<style scoped>\n",
       "    .dataframe tbody tr th:only-of-type {\n",
       "        vertical-align: middle;\n",
       "    }\n",
       "\n",
       "    .dataframe tbody tr th {\n",
       "        vertical-align: top;\n",
       "    }\n",
       "\n",
       "    .dataframe thead th {\n",
       "        text-align: right;\n",
       "    }\n",
       "</style>\n",
       "<table border=\"1\" class=\"dataframe\">\n",
       "  <thead>\n",
       "    <tr style=\"text-align: right;\">\n",
       "      <th></th>\n",
       "      <th>is_canceled</th>\n",
       "      <th>lead_time</th>\n",
       "      <th>arrival_date_year</th>\n",
       "      <th>arrival_date_week_number</th>\n",
       "      <th>arrival_date_day_of_month</th>\n",
       "      <th>stays_in_weekend_nights</th>\n",
       "      <th>stays_in_week_nights</th>\n",
       "      <th>adults</th>\n",
       "      <th>children</th>\n",
       "      <th>babies</th>\n",
       "      <th>is_repeated_guest</th>\n",
       "      <th>previous_cancellations</th>\n",
       "      <th>previous_bookings_not_canceled</th>\n",
       "      <th>booking_changes</th>\n",
       "      <th>days_in_waiting_list</th>\n",
       "      <th>adr</th>\n",
       "      <th>required_car_parking_spaces</th>\n",
       "      <th>total_of_special_requests</th>\n",
       "    </tr>\n",
       "  </thead>\n",
       "  <tbody>\n",
       "    <tr>\n",
       "      <th>count</th>\n",
       "      <td>119390.000000</td>\n",
       "      <td>119390.000000</td>\n",
       "      <td>119390.000000</td>\n",
       "      <td>119390.000000</td>\n",
       "      <td>119390.000000</td>\n",
       "      <td>119390.000000</td>\n",
       "      <td>119390.000000</td>\n",
       "      <td>119390.000000</td>\n",
       "      <td>119386.000000</td>\n",
       "      <td>119390.000000</td>\n",
       "      <td>119390.000000</td>\n",
       "      <td>119390.000000</td>\n",
       "      <td>119390.000000</td>\n",
       "      <td>119390.000000</td>\n",
       "      <td>119390.000000</td>\n",
       "      <td>119390.000000</td>\n",
       "      <td>119390.000000</td>\n",
       "      <td>119390.000000</td>\n",
       "    </tr>\n",
       "    <tr>\n",
       "      <th>mean</th>\n",
       "      <td>0.370416</td>\n",
       "      <td>104.011416</td>\n",
       "      <td>2016.156554</td>\n",
       "      <td>27.165173</td>\n",
       "      <td>15.798241</td>\n",
       "      <td>0.927599</td>\n",
       "      <td>2.500302</td>\n",
       "      <td>1.856403</td>\n",
       "      <td>0.103890</td>\n",
       "      <td>0.007949</td>\n",
       "      <td>0.031912</td>\n",
       "      <td>0.087118</td>\n",
       "      <td>0.137097</td>\n",
       "      <td>0.221124</td>\n",
       "      <td>2.321149</td>\n",
       "      <td>101.831122</td>\n",
       "      <td>0.062518</td>\n",
       "      <td>0.571363</td>\n",
       "    </tr>\n",
       "    <tr>\n",
       "      <th>std</th>\n",
       "      <td>0.482918</td>\n",
       "      <td>106.863097</td>\n",
       "      <td>0.707476</td>\n",
       "      <td>13.605138</td>\n",
       "      <td>8.780829</td>\n",
       "      <td>0.998613</td>\n",
       "      <td>1.908286</td>\n",
       "      <td>0.579261</td>\n",
       "      <td>0.398561</td>\n",
       "      <td>0.097436</td>\n",
       "      <td>0.175767</td>\n",
       "      <td>0.844336</td>\n",
       "      <td>1.497437</td>\n",
       "      <td>0.652306</td>\n",
       "      <td>17.594721</td>\n",
       "      <td>50.535790</td>\n",
       "      <td>0.245291</td>\n",
       "      <td>0.792798</td>\n",
       "    </tr>\n",
       "    <tr>\n",
       "      <th>min</th>\n",
       "      <td>0.000000</td>\n",
       "      <td>0.000000</td>\n",
       "      <td>2015.000000</td>\n",
       "      <td>1.000000</td>\n",
       "      <td>1.000000</td>\n",
       "      <td>0.000000</td>\n",
       "      <td>0.000000</td>\n",
       "      <td>0.000000</td>\n",
       "      <td>0.000000</td>\n",
       "      <td>0.000000</td>\n",
       "      <td>0.000000</td>\n",
       "      <td>0.000000</td>\n",
       "      <td>0.000000</td>\n",
       "      <td>0.000000</td>\n",
       "      <td>0.000000</td>\n",
       "      <td>-6.380000</td>\n",
       "      <td>0.000000</td>\n",
       "      <td>0.000000</td>\n",
       "    </tr>\n",
       "    <tr>\n",
       "      <th>25%</th>\n",
       "      <td>0.000000</td>\n",
       "      <td>18.000000</td>\n",
       "      <td>2016.000000</td>\n",
       "      <td>16.000000</td>\n",
       "      <td>8.000000</td>\n",
       "      <td>0.000000</td>\n",
       "      <td>1.000000</td>\n",
       "      <td>2.000000</td>\n",
       "      <td>0.000000</td>\n",
       "      <td>0.000000</td>\n",
       "      <td>0.000000</td>\n",
       "      <td>0.000000</td>\n",
       "      <td>0.000000</td>\n",
       "      <td>0.000000</td>\n",
       "      <td>0.000000</td>\n",
       "      <td>69.290000</td>\n",
       "      <td>0.000000</td>\n",
       "      <td>0.000000</td>\n",
       "    </tr>\n",
       "    <tr>\n",
       "      <th>50%</th>\n",
       "      <td>0.000000</td>\n",
       "      <td>69.000000</td>\n",
       "      <td>2016.000000</td>\n",
       "      <td>28.000000</td>\n",
       "      <td>16.000000</td>\n",
       "      <td>1.000000</td>\n",
       "      <td>2.000000</td>\n",
       "      <td>2.000000</td>\n",
       "      <td>0.000000</td>\n",
       "      <td>0.000000</td>\n",
       "      <td>0.000000</td>\n",
       "      <td>0.000000</td>\n",
       "      <td>0.000000</td>\n",
       "      <td>0.000000</td>\n",
       "      <td>0.000000</td>\n",
       "      <td>94.575000</td>\n",
       "      <td>0.000000</td>\n",
       "      <td>0.000000</td>\n",
       "    </tr>\n",
       "    <tr>\n",
       "      <th>75%</th>\n",
       "      <td>1.000000</td>\n",
       "      <td>160.000000</td>\n",
       "      <td>2017.000000</td>\n",
       "      <td>38.000000</td>\n",
       "      <td>23.000000</td>\n",
       "      <td>2.000000</td>\n",
       "      <td>3.000000</td>\n",
       "      <td>2.000000</td>\n",
       "      <td>0.000000</td>\n",
       "      <td>0.000000</td>\n",
       "      <td>0.000000</td>\n",
       "      <td>0.000000</td>\n",
       "      <td>0.000000</td>\n",
       "      <td>0.000000</td>\n",
       "      <td>0.000000</td>\n",
       "      <td>126.000000</td>\n",
       "      <td>0.000000</td>\n",
       "      <td>1.000000</td>\n",
       "    </tr>\n",
       "    <tr>\n",
       "      <th>max</th>\n",
       "      <td>1.000000</td>\n",
       "      <td>737.000000</td>\n",
       "      <td>2017.000000</td>\n",
       "      <td>53.000000</td>\n",
       "      <td>31.000000</td>\n",
       "      <td>19.000000</td>\n",
       "      <td>50.000000</td>\n",
       "      <td>55.000000</td>\n",
       "      <td>10.000000</td>\n",
       "      <td>10.000000</td>\n",
       "      <td>1.000000</td>\n",
       "      <td>26.000000</td>\n",
       "      <td>72.000000</td>\n",
       "      <td>21.000000</td>\n",
       "      <td>391.000000</td>\n",
       "      <td>5400.000000</td>\n",
       "      <td>8.000000</td>\n",
       "      <td>5.000000</td>\n",
       "    </tr>\n",
       "  </tbody>\n",
       "</table>\n",
       "</div>"
      ],
      "text/plain": [
       "         is_canceled      lead_time  arrival_date_year  \\\n",
       "count  119390.000000  119390.000000      119390.000000   \n",
       "mean        0.370416     104.011416        2016.156554   \n",
       "std         0.482918     106.863097           0.707476   \n",
       "min         0.000000       0.000000        2015.000000   \n",
       "25%         0.000000      18.000000        2016.000000   \n",
       "50%         0.000000      69.000000        2016.000000   \n",
       "75%         1.000000     160.000000        2017.000000   \n",
       "max         1.000000     737.000000        2017.000000   \n",
       "\n",
       "       arrival_date_week_number  arrival_date_day_of_month  \\\n",
       "count             119390.000000              119390.000000   \n",
       "mean                  27.165173                  15.798241   \n",
       "std                   13.605138                   8.780829   \n",
       "min                    1.000000                   1.000000   \n",
       "25%                   16.000000                   8.000000   \n",
       "50%                   28.000000                  16.000000   \n",
       "75%                   38.000000                  23.000000   \n",
       "max                   53.000000                  31.000000   \n",
       "\n",
       "       stays_in_weekend_nights  stays_in_week_nights         adults  \\\n",
       "count            119390.000000         119390.000000  119390.000000   \n",
       "mean                  0.927599              2.500302       1.856403   \n",
       "std                   0.998613              1.908286       0.579261   \n",
       "min                   0.000000              0.000000       0.000000   \n",
       "25%                   0.000000              1.000000       2.000000   \n",
       "50%                   1.000000              2.000000       2.000000   \n",
       "75%                   2.000000              3.000000       2.000000   \n",
       "max                  19.000000             50.000000      55.000000   \n",
       "\n",
       "            children         babies  is_repeated_guest  \\\n",
       "count  119386.000000  119390.000000      119390.000000   \n",
       "mean        0.103890       0.007949           0.031912   \n",
       "std         0.398561       0.097436           0.175767   \n",
       "min         0.000000       0.000000           0.000000   \n",
       "25%         0.000000       0.000000           0.000000   \n",
       "50%         0.000000       0.000000           0.000000   \n",
       "75%         0.000000       0.000000           0.000000   \n",
       "max        10.000000      10.000000           1.000000   \n",
       "\n",
       "       previous_cancellations  previous_bookings_not_canceled  \\\n",
       "count           119390.000000                   119390.000000   \n",
       "mean                 0.087118                        0.137097   \n",
       "std                  0.844336                        1.497437   \n",
       "min                  0.000000                        0.000000   \n",
       "25%                  0.000000                        0.000000   \n",
       "50%                  0.000000                        0.000000   \n",
       "75%                  0.000000                        0.000000   \n",
       "max                 26.000000                       72.000000   \n",
       "\n",
       "       booking_changes  days_in_waiting_list            adr  \\\n",
       "count    119390.000000         119390.000000  119390.000000   \n",
       "mean          0.221124              2.321149     101.831122   \n",
       "std           0.652306             17.594721      50.535790   \n",
       "min           0.000000              0.000000      -6.380000   \n",
       "25%           0.000000              0.000000      69.290000   \n",
       "50%           0.000000              0.000000      94.575000   \n",
       "75%           0.000000              0.000000     126.000000   \n",
       "max          21.000000            391.000000    5400.000000   \n",
       "\n",
       "       required_car_parking_spaces  total_of_special_requests  \n",
       "count                119390.000000              119390.000000  \n",
       "mean                      0.062518                   0.571363  \n",
       "std                       0.245291                   0.792798  \n",
       "min                       0.000000                   0.000000  \n",
       "25%                       0.000000                   0.000000  \n",
       "50%                       0.000000                   0.000000  \n",
       "75%                       0.000000                   1.000000  \n",
       "max                       8.000000                   5.000000  "
      ]
     },
     "execution_count": 17,
     "metadata": {},
     "output_type": "execute_result"
    }
   ],
   "source": [
    "df.describe()"
   ]
  },
  {
   "cell_type": "markdown",
   "id": "d41b9970-3467-410e-815c-142967bf6ca5",
   "metadata": {},
   "source": [
    "##### We get the numerical description of the overall data above like its mean, min and max values"
   ]
  },
  {
   "cell_type": "code",
   "execution_count": 18,
   "id": "c380065f-ca67-4f3c-8c17-f53299cdcdcd",
   "metadata": {},
   "outputs": [
    {
     "data": {
      "text/plain": [
       "hotel                                2\n",
       "is_canceled                          2\n",
       "lead_time                          479\n",
       "arrival_date_year                    3\n",
       "arrival_date_month                  12\n",
       "arrival_date_week_number            53\n",
       "arrival_date_day_of_month           31\n",
       "stays_in_weekend_nights             17\n",
       "stays_in_week_nights                35\n",
       "adults                              14\n",
       "children                             5\n",
       "babies                               5\n",
       "meal                                 5\n",
       "country                            177\n",
       "market_segment                       8\n",
       "distribution_channel                 5\n",
       "is_repeated_guest                    2\n",
       "previous_cancellations              15\n",
       "previous_bookings_not_canceled      73\n",
       "reserved_room_type                  10\n",
       "assigned_room_type                  12\n",
       "booking_changes                     21\n",
       "deposit_type                         3\n",
       "days_in_waiting_list               128\n",
       "customer_type                        4\n",
       "adr                               8879\n",
       "required_car_parking_spaces          5\n",
       "total_of_special_requests            6\n",
       "reservation_status                   3\n",
       "reservation_status_date            926\n",
       "dtype: int64"
      ]
     },
     "execution_count": 18,
     "metadata": {},
     "output_type": "execute_result"
    }
   ],
   "source": [
    "#Checking all uniques values for each column\n",
    "df.nunique()"
   ]
  },
  {
   "cell_type": "code",
   "execution_count": 19,
   "id": "f0d1c9a7-632c-4c4f-89c8-bcc126933a97",
   "metadata": {},
   "outputs": [
    {
     "name": "stdout",
     "output_type": "stream",
     "text": [
      "<class 'pandas.core.frame.DataFrame'>\n",
      "RangeIndex: 119390 entries, 0 to 119389\n",
      "Data columns (total 30 columns):\n",
      " #   Column                          Non-Null Count   Dtype  \n",
      "---  ------                          --------------   -----  \n",
      " 0   hotel                           119390 non-null  object \n",
      " 1   is_canceled                     119390 non-null  int64  \n",
      " 2   lead_time                       119390 non-null  int64  \n",
      " 3   arrival_date_year               119390 non-null  int64  \n",
      " 4   arrival_date_month              119390 non-null  object \n",
      " 5   arrival_date_week_number        119390 non-null  int64  \n",
      " 6   arrival_date_day_of_month       119390 non-null  int64  \n",
      " 7   stays_in_weekend_nights         119390 non-null  int64  \n",
      " 8   stays_in_week_nights            119390 non-null  int64  \n",
      " 9   adults                          119390 non-null  int64  \n",
      " 10  children                        119386 non-null  float64\n",
      " 11  babies                          119390 non-null  int64  \n",
      " 12  meal                            119390 non-null  object \n",
      " 13  country                         118902 non-null  object \n",
      " 14  market_segment                  119390 non-null  object \n",
      " 15  distribution_channel            119390 non-null  object \n",
      " 16  is_repeated_guest               119390 non-null  int64  \n",
      " 17  previous_cancellations          119390 non-null  int64  \n",
      " 18  previous_bookings_not_canceled  119390 non-null  int64  \n",
      " 19  reserved_room_type              119390 non-null  object \n",
      " 20  assigned_room_type              119390 non-null  object \n",
      " 21  booking_changes                 119390 non-null  int64  \n",
      " 22  deposit_type                    119390 non-null  object \n",
      " 23  days_in_waiting_list            119390 non-null  int64  \n",
      " 24  customer_type                   119390 non-null  object \n",
      " 25  adr                             119390 non-null  float64\n",
      " 26  required_car_parking_spaces     119390 non-null  int64  \n",
      " 27  total_of_special_requests       119390 non-null  int64  \n",
      " 28  reservation_status              119390 non-null  object \n",
      " 29  reservation_status_date         119390 non-null  object \n",
      "dtypes: float64(2), int64(16), object(12)\n",
      "memory usage: 27.3+ MB\n"
     ]
    }
   ],
   "source": [
    "#checking for datatypes\n",
    "df.info()"
   ]
  },
  {
   "cell_type": "code",
   "execution_count": 20,
   "id": "f7c42542-7b07-4296-ba56-63f4cc5c29a0",
   "metadata": {},
   "outputs": [],
   "source": [
    "#changing datatype\n",
    "df['arrival_date_month'] = pd.to_numeric(df['arrival_date_month'], errors='coerce')"
   ]
  },
  {
   "cell_type": "code",
   "execution_count": 58,
   "id": "a9643131-2ba9-4ad8-9288-7f633d808e11",
   "metadata": {},
   "outputs": [],
   "source": [
    "#changing datatype\n",
    "df['reservation_status_date'] = pd.to_datetime(df['reservation_status_date'], errors='coerce')"
   ]
  },
  {
   "cell_type": "markdown",
   "id": "782e222a-ca5c-4cac-8848-e913b85267cb",
   "metadata": {},
   "source": [
    "### Columns and the data it represents are listed below:"
   ]
  },
  {
   "cell_type": "markdown",
   "id": "5edd94df-dd01-4b92-874a-860f33e58a94",
   "metadata": {},
   "source": [
    "##### 1. hotel: Name of the hotel(Resort or city hotel)"
   ]
  },
  {
   "cell_type": "markdown",
   "id": "cc7ab435-ca60-4e05-a8c6-c760b9e882f0",
   "metadata": {},
   "source": [
    "##### 2. is_canceled: If the booking was cancelled(1) or not(0)"
   ]
  },
  {
   "cell_type": "markdown",
   "id": "1e8b5385-6333-4838-86f5-28808b5fcab1",
   "metadata": {},
   "source": [
    "##### 3. lead_time: Number of days before the actual arrival of the customers"
   ]
  },
  {
   "cell_type": "markdown",
   "id": "903c3574-1eee-46eb-b6a4-963c3080b8a2",
   "metadata": {},
   "source": [
    "##### 4. arrival_date_year: Year of arrival"
   ]
  },
  {
   "cell_type": "markdown",
   "id": "5be60d51-cff2-48b2-ba22-b7e60175257a",
   "metadata": {},
   "source": [
    "##### 5. arrival_date_month: Date and month of arrival"
   ]
  },
  {
   "cell_type": "markdown",
   "id": "b08b0d4b-2302-448d-968d-511350e0f201",
   "metadata": {},
   "source": [
    "##### 6. arrival_date_week_number: Week number of year arriving"
   ]
  },
  {
   "cell_type": "markdown",
   "id": "27214d4e-05b8-412c-9531-0916e1919e41",
   "metadata": {},
   "source": [
    "##### 7. arrival_date_day_of_month: Day of arrival date"
   ]
  },
  {
   "cell_type": "markdown",
   "id": "7ea1e907-fe45-4361-9bda-ec4588e17f6e",
   "metadata": {},
   "source": [
    "##### 8. stays_in_weekend_nights: Number of weekend nights(Saturday/Sunday) spent at the hotel by guests"
   ]
  },
  {
   "cell_type": "markdown",
   "id": "2857f591-0760-42cf-910c-184b00984768",
   "metadata": {},
   "source": [
    "##### 9. stays_in_week_nights: Number of weeknights (Monday to Friday) spent at the hotel by guests"
   ]
  },
  {
   "cell_type": "markdown",
   "id": "f57c9a4b-b68c-4208-93c4-70e1a0fc8ee2",
   "metadata": {},
   "source": [
    "##### 10. adults: Number of adults in guests"
   ]
  },
  {
   "cell_type": "markdown",
   "id": "c4776161-b869-4101-bdbe-5601507b3b6a",
   "metadata": {},
   "source": [
    "##### 11. children: Number of children in guests"
   ]
  },
  {
   "cell_type": "markdown",
   "id": "23241a26-1500-426d-8094-585c28b42547",
   "metadata": {},
   "source": [
    "##### 12. babies: Number of babies in guests"
   ]
  },
  {
   "cell_type": "markdown",
   "id": "57b59aff-b389-454f-8552-44852a356a81",
   "metadata": {},
   "source": [
    "##### 13. meal: Type of meal booked"
   ]
  },
  {
   "cell_type": "markdown",
   "id": "c5504952-ff29-46e2-be1b-c6b6dfd3078a",
   "metadata": {},
   "source": [
    "##### 14. country: Country of the guest they belong"
   ]
  },
  {
   "cell_type": "markdown",
   "id": "420c4878-53dd-4b2d-89e9-706488061862",
   "metadata": {},
   "source": [
    "##### 15. market_segment: Designation of market segment"
   ]
  },
  {
   "cell_type": "markdown",
   "id": "8e30190c-c1af-47bb-8eeb-5a36106bf7a6",
   "metadata": {},
   "source": [
    "##### 16. distribution_channel: Name of booking distribution channel"
   ]
  },
  {
   "cell_type": "markdown",
   "id": "3d9edd28-0e20-490e-9ad6-b3fbfc9a4fc7",
   "metadata": {},
   "source": [
    "##### 17. is_repeated_guest: If the booking was from a repeated guest(1) or not(0)"
   ]
  },
  {
   "cell_type": "markdown",
   "id": "2479ea10-07ff-4212-a142-7dfb33c4538b",
   "metadata": {},
   "source": [
    "##### 18. previous_cancellations: Number of previous bookings customer has cancelled prior to the current booking"
   ]
  },
  {
   "cell_type": "markdown",
   "id": "32963820-3b25-4dba-b3f7-fa529f3802ec",
   "metadata": {},
   "source": [
    "##### 19. previous_bookings_not_canceled: Number of previous bookings customer has not cancelled prior to the current booking"
   ]
  },
  {
   "cell_type": "markdown",
   "id": "2475466c-cfa8-4e00-b796-514a0a5941c4",
   "metadata": {},
   "source": [
    "##### 20. reserved_room_type: Code of room type reserved"
   ]
  },
  {
   "cell_type": "markdown",
   "id": "baed3a6d-4c26-4619-abe1-58d585f9d4e3",
   "metadata": {},
   "source": [
    "##### 21. assigned_room_type: Code of room type assigned"
   ]
  },
  {
   "cell_type": "markdown",
   "id": "57dc06a9-f177-4724-ac22-3434a73615db",
   "metadata": {},
   "source": [
    "##### 22. booking_changes: Number of changes made to the booking"
   ]
  },
  {
   "cell_type": "markdown",
   "id": "23790b2c-85da-4ec0-a5f5-b7c405d8cb89",
   "metadata": {},
   "source": [
    "##### 23. deposit_type: Type of deposit made by the customer"
   ]
  },
  {
   "cell_type": "markdown",
   "id": "88b97ec1-551d-4880-8c45-daa9f83ba6fe",
   "metadata": {},
   "source": [
    "##### 24. days_in_waiting_list: Number of waiting list in booking\n"
   ]
  },
  {
   "cell_type": "markdown",
   "id": "a29993bc-78ba-4f92-844d-0909de6d5f30",
   "metadata": {},
   "source": [
    "##### 25. customer_type: Type of customer (out of four categories)"
   ]
  },
  {
   "cell_type": "markdown",
   "id": "c8b6d827-528b-43e1-9437-35aaa356fccf",
   "metadata": {},
   "source": [
    "##### 26. adr: Average daily rate, defined by dividing the sum of all lodging transactions by the total number of staying nights"
   ]
  },
  {
   "cell_type": "markdown",
   "id": "35b27ef0-b03a-4849-b81d-a565d2ed6537",
   "metadata": {},
   "source": [
    "##### 27. required_car_parking_spaces: Number of car parking space required"
   ]
  },
  {
   "cell_type": "markdown",
   "id": "6033fe07-75e3-4c42-961e-1a04632ffb89",
   "metadata": {},
   "source": [
    "##### 28. total_of_special_requests: Number of special request made by the customer"
   ]
  },
  {
   "cell_type": "markdown",
   "id": "b48c160d-33e2-493c-b978-646b24f6595e",
   "metadata": {},
   "source": [
    "##### 29. reservation_status: Reservation status (Canceled, check-out or not showing)"
   ]
  },
  {
   "cell_type": "markdown",
   "id": "3c0e6ae2-4b39-43a2-b5b8-5c3a2b76b1d7",
   "metadata": {},
   "source": [
    "##### 30. reservation_status_date: Date at which the last reservation status was updated"
   ]
  },
  {
   "cell_type": "markdown",
   "id": "a327b320-af1a-4a72-ae69-f88a1e610721",
   "metadata": {},
   "source": [
    "# Exploratory Data Analysis"
   ]
  },
  {
   "cell_type": "raw",
   "id": "f5ab3e60-6fd4-414f-83eb-15a191ce6b60",
   "metadata": {},
   "source": []
  },
  {
   "cell_type": "markdown",
   "id": "88ab56c7-50cf-4e8b-8e0f-3bdc49bc5ee7",
   "metadata": {},
   "source": [
    "### Bookings of individual hotels"
   ]
  },
  {
   "cell_type": "code",
   "execution_count": 21,
   "id": "8e86d4fd-afaf-4004-93cd-6c79b4681afb",
   "metadata": {},
   "outputs": [
    {
     "data": {
      "text/plain": [
       "[Text(0, 0, '40060'), Text(0, 0, '79330')]"
      ]
     },
     "execution_count": 21,
     "metadata": {},
     "output_type": "execute_result"
    },
    {
     "data": {
      "image/png": "[encoded data removed]",
      "text/plain": [
       "<Figure size 400x500 with 1 Axes>"
      ]
     },
     "metadata": {},
     "output_type": "display_data"
    }
   ],
   "source": [
    "plt.figure(figsize =(4,5))\n",
    "ax = sns.countplot(data = df, x= 'hotel')\n",
    "ax.bar_label(ax.containers[0])"
   ]
  },
  {
   "cell_type": "markdown",
   "id": "c8a7a9f9-4ed9-4805-a402-480fe60271bd",
   "metadata": {},
   "source": [
    "#### We can see from above countplot that City hotel are booked more as compared to Resort hotel. Maybe because resort hotel is cheaper than the city hotel."
   ]
  },
  {
   "cell_type": "code",
   "execution_count": null,
   "id": "194b0bf3-a3be-494a-9b4e-d50765e8ae97",
   "metadata": {},
   "outputs": [],
   "source": []
  },
  {
   "cell_type": "code",
   "execution_count": 22,
   "id": "1ab4e80d-c82d-4686-be18-08c300e1713f",
   "metadata": {},
   "outputs": [
    {
     "data": {
      "text/plain": [
       "<Axes: xlabel='hotel', ylabel='stays_in_weekend_nights'>"
      ]
     },
     "execution_count": 22,
     "metadata": {},
     "output_type": "execute_result"
    },
    {
     "data": {
      "image/png": "[encoded data removed]",
      "text/plain": [
       "<Figure size 640x480 with 1 Axes>"
      ]
     },
     "metadata": {},
     "output_type": "display_data"
    }
   ],
   "source": [
    "# Calculate the total stays for each hotel type\n",
    "dth = df.groupby(['hotel'], as_index= False) ['stays_in_weekend_nights'].sum().sort_values(by= 'stays_in_weekend_nights', ascending=False)\n",
    "\n",
    "sns.barplot (x= 'hotel', y= 'stays_in_weekend_nights', data=dth)"
   ]
  },
  {
   "cell_type": "markdown",
   "id": "3ac7df73-bd9d-4037-92fd-6cef89e03c79",
   "metadata": {},
   "source": [
    "#### From above graph we can see that stays in weekend nights are more in city hotel."
   ]
  },
  {
   "cell_type": "raw",
   "id": "4ef8218f-e3fe-4243-ba2e-3207e6780970",
   "metadata": {},
   "source": []
  },
  {
   "cell_type": "markdown",
   "id": "83581ffe-7f33-4f1f-a8bb-d2982077c178",
   "metadata": {},
   "source": [
    "### Total numbers of cancellation VS non-cancellations"
   ]
  },
  {
   "cell_type": "code",
   "execution_count": 42,
   "id": "06290a39-a047-467b-ba55-c3866d2e79a6",
   "metadata": {},
   "outputs": [
    {
     "data": {
      "image/png": "[encoded data removed]",
      "text/plain": [
       "<Figure size 400x400 with 1 Axes>"
      ]
     },
     "metadata": {},
     "output_type": "display_data"
    }
   ],
   "source": [
    "plt.figure(figsize=(4,4))\n",
    "plt.title('Cancellation vs non-cancellation Count')\n",
    "plt.bar(['not cancelled','cancelled'], df['is_canceled'].value_counts(),width=0.7)\n",
    "plt.show()"
   ]
  },
  {
   "cell_type": "code",
   "execution_count": 32,
   "id": "e05abc2f-647e-4ae9-bd41-6089efd381a5",
   "metadata": {},
   "outputs": [],
   "source": [
    "canceled_percent = df['is_canceled'].value_counts(normalize= 'True')"
   ]
  },
  {
   "cell_type": "code",
   "execution_count": 37,
   "id": "28ff1ea0-ee4d-40ca-9a30-96a56307009b",
   "metadata": {},
   "outputs": [
    {
     "data": {
      "text/plain": [
       "is_canceled\n",
       "0    0.629584\n",
       "1    0.370416\n",
       "Name: proportion, dtype: float64"
      ]
     },
     "execution_count": 37,
     "metadata": {},
     "output_type": "execute_result"
    }
   ],
   "source": [
    "canceled_percent"
   ]
  },
  {
   "cell_type": "markdown",
   "id": "1d6c2582-3c8d-465d-a472-ae9595be5af8",
   "metadata": {},
   "source": [
    "#### From above graph and data we can see that more than 4000 bookings or about 37% bookings are being cancelled by the customers which is a big number. So we should look into it by offering customers more of what they want."
   ]
  },
  {
   "cell_type": "raw",
   "id": "a1f11f85-d187-46bb-84c5-3fddebef5fb6",
   "metadata": {},
   "source": []
  },
  {
   "cell_type": "markdown",
   "id": "0a3fcf2f-0a8c-4df8-801a-30080e8be4fe",
   "metadata": {},
   "source": [
    "### Booking Channels"
   ]
  },
  {
   "cell_type": "code",
   "execution_count": 129,
   "id": "c1ee2ca7-c71d-4f68-8202-2ae64d8c4548",
   "metadata": {},
   "outputs": [
    {
     "data": {
      "image/png": "[encoded data removed]",
      "text/plain": [
       "<Figure size 400x500 with 1 Axes>"
      ]
     },
     "metadata": {},
     "output_type": "display_data"
    }
   ],
   "source": [
    "#Countplot of the booking chanells of the customers\n",
    "plt.figure(figsize =(4,5))\n",
    "ax = sns.countplot(data = df, x= 'distribution_channel')"
   ]
  },
  {
   "cell_type": "markdown",
   "id": "140b3ecc-aa8d-47cf-a2ff-6945745b114a",
   "metadata": {},
   "source": [
    "#### The booking channel customers are using most is TA/TO."
   ]
  },
  {
   "cell_type": "raw",
   "id": "d6e2296d-193c-4d69-938a-5be49c7d5130",
   "metadata": {},
   "source": []
  },
  {
   "cell_type": "code",
   "execution_count": 79,
   "id": "e77d2a7a-f4b4-4d90-a030-ab65b9bbb8ab",
   "metadata": {},
   "outputs": [
    {
     "data": {
      "image/png": "[encoded data removed]",
      "text/plain": [
       "<Figure size 1600x800 with 1 Axes>"
      ]
     },
     "metadata": {},
     "output_type": "display_data"
    }
   ],
   "source": [
    "df['month'] = df['reservation_status_date'].dt.month\n",
    "plt.figure(figsize = (16,8))\n",
    "ax1 = sns.countplot(x='month', hue= 'is_canceled', data=df)\n",
    "ax1.bar_label(ax.containers[0])\n",
    "plt.ylabel('Number of reservations')\n",
    "plt.legend(['not canceled','canceled'])\n",
    "plt.show()"
   ]
  },
  {
   "cell_type": "markdown",
   "id": "b17d60af-84bd-4362-9d42-8588ce2e031e",
   "metadata": {},
   "source": [
    "#### From above chart we can see that August followed by November and December have highest number of non-cancelled bookings. Also June, January and February are the months where mostly bookings are cancelled. \n"
   ]
  },
  {
   "cell_type": "raw",
   "id": "f3142d4a-6583-4daa-bef6-cf6909b05104",
   "metadata": {},
   "source": []
  },
  {
   "cell_type": "code",
   "execution_count": 89,
   "id": "b5f63778-a37f-49b7-a0d3-3be35b9de12d",
   "metadata": {},
   "outputs": [
    {
     "data": {
      "text/plain": [
       "Text(0.5, 1.0, 'Percentage of guests repeated or not repeated')"
      ]
     },
     "execution_count": 89,
     "metadata": {},
     "output_type": "execute_result"
    },
    {
     "data": {
      "image/png": "[encoded data removed]",
      "text/plain": [
       "<Figure size 400x500 with 1 Axes>"
      ]
     },
     "metadata": {},
     "output_type": "display_data"
    }
   ],
   "source": [
    "value_counts = df['is_repeated_guest'].value_counts()\n",
    "\n",
    "# Create the pie chart\n",
    "plt.figure(figsize=(4, 5))  # Adjust figure size if needed\n",
    "plt.pie(value_counts, labels=value_counts.index, autopct='%1.1f%%', startangle=140)\n",
    "plt.title('Percentage of guests repeated or not repeated')"
   ]
  },
  {
   "cell_type": "markdown",
   "id": "4634795a-629f-4052-be9a-91b0711f74a2",
   "metadata": {},
   "source": [
    "#### From above pie chart we can see that percentage of new customers are 96.8%. But we need to offer some good benefits to the repeated customers so that they visit more."
   ]
  },
  {
   "cell_type": "raw",
   "id": "6b5a5659-8031-4fd8-b5b4-4cab4d8e8ea1",
   "metadata": {},
   "source": []
  },
  {
   "cell_type": "code",
   "execution_count": 109,
   "id": "2a674e70-b623-41e1-9f69-529a8fc251f4",
   "metadata": {},
   "outputs": [
    {
     "data": {
      "text/plain": [
       "[Text(0, 0, '2375'),\n",
       " Text(0, 0, '74053'),\n",
       " Text(0, 0, '25322'),\n",
       " Text(0, 0, '7806'),\n",
       " Text(0, 0, '2553'),\n",
       " Text(0, 0, '3751'),\n",
       " Text(0, 0, '363'),\n",
       " Text(0, 0, '2163'),\n",
       " Text(0, 0, '712'),\n",
       " Text(0, 0, '12'),\n",
       " Text(0, 0, '1'),\n",
       " Text(0, 0, '279')]"
      ]
     },
     "execution_count": 109,
     "metadata": {},
     "output_type": "execute_result"
    },
    {
     "data": {
      "image/png": "[encoded data removed]",
      "text/plain": [
       "<Figure size 800x900 with 1 Axes>"
      ]
     },
     "metadata": {},
     "output_type": "display_data"
    }
   ],
   "source": [
    "plt.figure(figsize =(8,9))\n",
    "ax = sns.countplot(data = df, x= 'assigned_room_type')\n",
    "ax.bar_label(ax.containers[0])"
   ]
  },
  {
   "cell_type": "markdown",
   "id": "3c97f273-f956-4f68-a773-044889542add",
   "metadata": {},
   "source": [
    "#### We can clearly see that room type 'A' followed by 'D' & 'E' is most preferable and also most assigned room type by the customers."
   ]
  },
  {
   "cell_type": "raw",
   "id": "0ccc65d0-1a8c-4856-83e4-4adafda79bd0",
   "metadata": {},
   "source": []
  },
  {
   "cell_type": "code",
   "execution_count": 115,
   "id": "a8da8e12-84c6-4399-af31-4cc1f84378d4",
   "metadata": {},
   "outputs": [
    {
     "data": {
      "text/plain": [
       "[Text(0, 0, '12606'),\n",
       " Text(0, 0, '5295'),\n",
       " Text(0, 0, '56477'),\n",
       " Text(0, 0, '24219'),\n",
       " Text(0, 0, '743'),\n",
       " Text(0, 0, '19811'),\n",
       " Text(0, 0, '2'),\n",
       " Text(0, 0, '237')]"
      ]
     },
     "execution_count": 115,
     "metadata": {},
     "output_type": "execute_result"
    },
    {
     "data": {
      "image/png": "[encoded data removed]",
      "text/plain": [
       "<Figure size 1200x800 with 1 Axes>"
      ]
     },
     "metadata": {},
     "output_type": "display_data"
    }
   ],
   "source": [
    "plt.figure(figsize =(12,8))\n",
    "ax = sns.countplot(data = df, x= 'market_segment')\n",
    "ax.bar_label(ax.containers[0])"
   ]
  },
  {
   "cell_type": "markdown",
   "id": "a96fad44-30fe-4d4c-a5e8-39b985536917",
   "metadata": {},
   "source": [
    "#### From above graph we can see that Online TA is the most preferred market segment from which customers are booking the hotel."
   ]
  },
  {
   "cell_type": "raw",
   "id": "1dfad460-527f-427b-a25e-32292a1b2cad",
   "metadata": {},
   "source": []
  },
  {
   "cell_type": "code",
   "execution_count": 12,
   "id": "6ae54bde-c5aa-407a-92e5-9759491cabe1",
   "metadata": {},
   "outputs": [],
   "source": [
    "country_percent = df['country'].value_counts(normalize= 'True')"
   ]
  },
  {
   "cell_type": "code",
   "execution_count": 13,
   "id": "0f1db0c7-ac6e-42ba-bb0e-cf9c6e92d858",
   "metadata": {},
   "outputs": [
    {
     "data": {
      "text/plain": [
       "country\n",
       "PRT    0.408656\n",
       "GBR    0.102008\n",
       "FRA    0.087593\n",
       "ESP    0.072059\n",
       "DEU    0.061286\n",
       "         ...   \n",
       "DJI    0.000008\n",
       "BWA    0.000008\n",
       "HND    0.000008\n",
       "VGB    0.000008\n",
       "NAM    0.000008\n",
       "Name: proportion, Length: 177, dtype: float64"
      ]
     },
     "execution_count": 13,
     "metadata": {},
     "output_type": "execute_result"
    }
   ],
   "source": [
    "country_percent"
   ]
  },
  {
   "cell_type": "markdown",
   "id": "eed0cf0a-8773-41ee-b51f-8f73b319ac65",
   "metadata": {},
   "source": [
    "#### We can see from above that maximum customers are from Portugal which consists of 40% followed by Great Britain consisting 10% of total customers.\n"
   ]
  },
  {
   "cell_type": "raw",
   "id": "aaf0e19c-2da9-467b-9e9a-2870a368f534",
   "metadata": {},
   "source": []
  },
  {
   "cell_type": "code",
   "execution_count": 22,
   "id": "f9326b87-961d-4fd1-90d0-0af76f19fcd7",
   "metadata": {},
   "outputs": [
    {
     "data": {
      "text/plain": [
       "0         0\n",
       "1         0\n",
       "2         1\n",
       "3         1\n",
       "4         2\n",
       "         ..\n",
       "119385    7\n",
       "119386    7\n",
       "119387    7\n",
       "119388    7\n",
       "119389    9\n",
       "Name: total_stays_in_night, Length: 119390, dtype: int64"
      ]
     },
     "execution_count": 22,
     "metadata": {},
     "output_type": "execute_result"
    }
   ],
   "source": [
    "# We have created a column named as total stays at night by adding week_nights and weekend_nights\n",
    "df['total_stays_in_night'] = df['stays_in_weekend_nights'] + df['stays_in_week_nights']\n",
    "df['total_stays_in_night']"
   ]
  },
  {
   "cell_type": "code",
   "execution_count": 25,
   "id": "eda21324-e3f6-40c3-b5e7-30972e558d49",
   "metadata": {},
   "outputs": [
    {
     "data": {
      "text/plain": [
       "0            0.00\n",
       "1            0.00\n",
       "2           75.00\n",
       "3           75.00\n",
       "4          196.00\n",
       "           ...   \n",
       "119385     672.98\n",
       "119386    1578.01\n",
       "119387    1103.97\n",
       "119388     730.80\n",
       "119389    1360.80\n",
       "Name: revenue, Length: 119390, dtype: float64"
      ]
     },
     "execution_count": 25,
     "metadata": {},
     "output_type": "execute_result"
    }
   ],
   "source": [
    "# We will check overall revenue\n",
    "df['revenue']= df['total_stays_in_night'] *df['adr']\n",
    "df['revenue']"
   ]
  },
  {
   "cell_type": "code",
   "execution_count": 26,
   "id": "2431df0d-7125-465c-b82d-1925ae2590b0",
   "metadata": {},
   "outputs": [],
   "source": [
    "# We will check overall revenue hotel wise\n",
    "hotel_wise_total_revenue = df.groupby('hotel')['revenue'].sum()"
   ]
  },
  {
   "cell_type": "code",
   "execution_count": 27,
   "id": "9afdf3c0-fe9e-4720-a3f0-cba3a0d11478",
   "metadata": {},
   "outputs": [
    {
     "data": {
      "text/plain": [
       "hotel\n",
       "City Hotel      25279469.96\n",
       "Resort Hotel    17444027.57\n",
       "Name: revenue, dtype: float64"
      ]
     },
     "execution_count": 27,
     "metadata": {},
     "output_type": "execute_result"
    }
   ],
   "source": [
    "hotel_wise_total_revenue"
   ]
  },
  {
   "cell_type": "markdown",
   "id": "0c7ca6e4-a5cd-430e-80b6-3787ac7aebee",
   "metadata": {},
   "source": [
    "#### From above we can see that total revenue of City Hotel is more than Resort Hotel."
   ]
  },
  {
   "cell_type": "raw",
   "id": "702f39a9-6272-4296-bcd5-4a1400356103",
   "metadata": {},
   "source": []
  },
  {
   "cell_type": "markdown",
   "id": "1ec8fcbb-3528-4968-a0d0-200cec077da1",
   "metadata": {},
   "source": [
    "## Conclusion -"
   ]
  },
  {
   "cell_type": "markdown",
   "id": "795c4859-fd8f-40c5-a545-fe57be1cea47",
   "metadata": {},
   "source": [
    "### From above data we can clearly see that City Hotel is booked more and 37% bookings are being cancelled from total bookings made by the guests. August, November and December are the highest booking months and we need to focus most on january as it has most percentage of cancellations. We can offer good discounts in the month of January. The most preferable mode of channel used by the guests is TA/TO. There are almost 96% new customers whose most preferred room type is 'A' and are from market segment Online TA. The total revenue of City Hotel is more than Resort hotel and people from Portugal contribute most followed by the people from Great Britain."
   ]
  },
  {
   "cell_type": "code",
   "execution_count": null,
   "id": "8ebf3bc2-f013-49a9-88e8-47d5c4d45924",
   "metadata": {},
   "outputs": [],
   "source": []
  }
 ],
 "metadata": {
  "kernelspec": {
   "display_name": "Python 3 (ipykernel)",
   "language": "python",
   "name": "python3"
  },
  "language_info": {
   "codemirror_mode": {
    "name": "ipython",
    "version": 3
   },
   "file_extension": ".py",
   "mimetype": "text/x-python",
   "name": "python",
   "nbconvert_exporter": "python",
   "pygments_lexer": "ipython3",
   "version": "3.11.5"
  }
 },
 "nbformat": 4,
 "nbformat_minor": 5
}
